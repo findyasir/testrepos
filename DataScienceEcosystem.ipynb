{
 "cells": [
  {
   "cell_type": "markdown",
   "id": "9ce140e1-947f-4a64-a71f-ffe40115b5ec",
   "metadata": {},
   "source": [
    "# Data Science Tools and Ecosystem"
   ]
  },
  {
   "cell_type": "markdown",
   "id": "5b87fb9e-fea2-46ec-872f-8f55c970b316",
   "metadata": {},
   "source": [
    "In this notebook, Data Science Tools and Ecosystem are summarized."
   ]
  },
  {
   "cell_type": "markdown",
   "id": "80845187-c3c8-442f-b386-254bb3547db6",
   "metadata": {},
   "source": [
    "**Objectives:**\n",
    "\n",
    "\n",
    "- List popular languages for Data Science\n",
    "- Some of the commonly used libraries \n",
    "- arithmetic expressions\n"
   ]
  },
  {
   "cell_type": "markdown",
   "id": "43e7ac81-a8b1-4bb4-a521-cb47f423fb89",
   "metadata": {},
   "source": [
    "Some of the popular languages that Data Scientists use are:"
   ]
  },
  {
   "cell_type": "markdown",
   "id": "c659dce9-a60d-4025-a4fe-2b2a515ae7aa",
   "metadata": {},
   "source": [
    "1. Python\n",
    "2. C++\n",
    "3. Java\n",
    "   "
   ]
  },
  {
   "cell_type": "markdown",
   "id": "c107b662-8a87-4e26-a2b5-a32b67616227",
   "metadata": {},
   "source": [
    "Some of the commonly used libraries used by Data Scientists include:\n",
    "1. sklearn\n",
    "2. plotly\n",
    "3. pandas"
   ]
  },
  {
   "cell_type": "markdown",
   "id": "25ddc7dc-8a87-4131-9e17-609a04dc4e7d",
   "metadata": {},
   "source": [
    "|Data Science Tools|\n",
    "|------------------|\n",
    "|Jupytor Notebook|\n",
    "|AANACONDA Navigator|\n",
    "|R Studio|"
   ]
  },
  {
   "cell_type": "markdown",
   "id": "20b37f6a-441f-4dce-bad5-c6508e517d2a",
   "metadata": {},
   "source": [
    "### Below are a few examples of evaluating arithmetic expressions in Python"
   ]
  },
  {
   "cell_type": "code",
   "execution_count": 3,
   "id": "c28169b8-8313-4c56-9ccb-a59dcff32762",
   "metadata": {},
   "outputs": [
    {
     "data": {
      "text/plain": [
       "17"
      ]
     },
     "execution_count": 3,
     "metadata": {},
     "output_type": "execute_result"
    }
   ],
   "source": [
    "# This a simple arithmetic expression to mutiply then add integers\n",
    "(3*4)+5"
   ]
  },
  {
   "cell_type": "code",
   "execution_count": 4,
   "id": "845f28d5-4a71-4240-afa5-285b57c2e48d",
   "metadata": {},
   "outputs": [
    {
     "data": {
      "text/plain": [
       "3.3333333333333335"
      ]
     },
     "execution_count": 4,
     "metadata": {},
     "output_type": "execute_result"
    }
   ],
   "source": [
    "# This will convert 200 minutes to hours by diving by 60\n",
    "200/60"
   ]
  },
  {
   "cell_type": "markdown",
   "id": "b3da4434-b3c4-49c4-9f85-c847c0676278",
   "metadata": {},
   "source": [
    "## Author\n",
    "Yasir Mehmood"
   ]
  },
  {
   "cell_type": "code",
   "execution_count": null,
   "id": "52ad490b-fbe2-4f04-8d12-7fbb907af16b",
   "metadata": {},
   "outputs": [],
   "source": []
  }
 ],
 "metadata": {
  "kernelspec": {
   "display_name": "Python 3 (ipykernel)",
   "language": "python",
   "name": "python3"
  },
  "language_info": {
   "codemirror_mode": {
    "name": "ipython",
    "version": 3
   },
   "file_extension": ".py",
   "mimetype": "text/x-python",
   "name": "python",
   "nbconvert_exporter": "python",
   "pygments_lexer": "ipython3",
   "version": "3.12.7"
  }
 },
 "nbformat": 4,
 "nbformat_minor": 5
}
